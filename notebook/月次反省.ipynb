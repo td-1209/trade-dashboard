{
 "cells": [
  {
   "cell_type": "code",
   "execution_count": null,
   "metadata": {},
   "outputs": [],
   "source": [
    "import os\n",
    "\n",
    "os.chdir('/Users/teon/Projects/241028_TRADE/trade-dashboard/')\n",
    "print(os.getcwd())"
   ]
  },
  {
   "cell_type": "code",
   "execution_count": 2,
   "metadata": {},
   "outputs": [],
   "source": [
    "import pandas as pd\n",
    "\n",
    "from notebook.dynamodb import RecordFetcher\n"
   ]
  },
  {
   "cell_type": "code",
   "execution_count": null,
   "metadata": {},
   "outputs": [],
   "source": [
    "table_name = \"td-profit-loss\"\n",
    "records = RecordFetcher.get_all_records(table_name)"
   ]
  },
  {
   "cell_type": "code",
   "execution_count": null,
   "metadata": {},
   "outputs": [],
   "source": [
    "df = pd.DataFrame(records)\n",
    "df['enteredAt'] = pd.to_datetime(df['enteredAt'], format='%Y-%m-%d_%H-%M')\n",
    "df_january = df[df['enteredAt'].dt.month == 1]\n",
    "df_january['profitLossPrice'] = df_january['profitLossPrice'].astype(int)\n",
    "df_january['winlose'] = df_january['profitLossPrice'].apply(lambda x: '勝ち' if x > 0 else '負け')"
   ]
  },
  {
   "cell_type": "code",
   "execution_count": 8,
   "metadata": {},
   "outputs": [],
   "source": [
    "text = '|結果|事前判断|事後反省|\\n' + '|-|-|-|\\n'\n",
    "for i, row in df_january.iterrows():\n",
    "  text += f'|{row['winlose']}|{row['reason'].replace(\"\\n\", \"\")}|{row['result'].replace(\"\\n\", \"\")}|\\n'"
   ]
  },
  {
   "cell_type": "code",
   "execution_count": null,
   "metadata": {},
   "outputs": [],
   "source": [
    "print(text)"
   ]
  }
 ],
 "metadata": {
  "kernelspec": {
   "display_name": ".venv",
   "language": "python",
   "name": "python3"
  },
  "language_info": {
   "codemirror_mode": {
    "name": "ipython",
    "version": 3
   },
   "file_extension": ".py",
   "mimetype": "text/x-python",
   "name": "python",
   "nbconvert_exporter": "python",
   "pygments_lexer": "ipython3",
   "version": "3.12.0"
  }
 },
 "nbformat": 4,
 "nbformat_minor": 2
}
