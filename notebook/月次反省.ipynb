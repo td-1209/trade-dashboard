{
 "cells": [
  {
   "cell_type": "code",
   "execution_count": 1,
   "metadata": {},
   "outputs": [
    {
     "name": "stdout",
     "output_type": "stream",
     "text": [
      "/Users/teon/Projects/241028_TRADE/trade-dashboard\n"
     ]
    }
   ],
   "source": [
    "import os\n",
    "\n",
    "os.chdir(\"/Users/teon/Projects/241028_TRADE/trade-dashboard/\")\n",
    "print(os.getcwd())"
   ]
  },
  {
   "cell_type": "code",
   "execution_count": 2,
   "metadata": {},
   "outputs": [],
   "source": [
    "import warnings\n",
    "\n",
    "import pandas as pd  # type: ignore\n",
    "\n",
    "from notebook.dynamodb import RecordFetcher\n",
    "\n",
    "warnings.filterwarnings('ignore')"
   ]
  },
  {
   "cell_type": "code",
   "execution_count": 3,
   "metadata": {},
   "outputs": [],
   "source": [
    "table_name = \"td-profit-loss\"\n",
    "records = RecordFetcher.get_all_records(table_name)"
   ]
  },
  {
   "cell_type": "code",
   "execution_count": 4,
   "metadata": {},
   "outputs": [],
   "source": [
    "df = pd.DataFrame(records)\n",
    "df = df[df[\"isSettled\"]]\n",
    "df[\"enteredAt\"] = pd.to_datetime(df[\"enteredAt\"], format=\"%Y-%m-%d_%H-%M\")\n",
    "df_extract = df[df[\"enteredAt\"].dt.month == 1]\n",
    "df_extract[\"profitLossPrice\"] = df_extract[\"profitLossPrice\"].astype(int)\n",
    "df_extract[\"winlose\"] = df_extract[\"profitLossPrice\"].apply(lambda x: \"勝ち\" if x > 0 else \"負け\")"
   ]
  },
  {
   "cell_type": "code",
   "execution_count": 5,
   "metadata": {},
   "outputs": [
    {
     "name": "stdout",
     "output_type": "stream",
     "text": [
      "|結果|事前判断|事後反省|\n",
      "|-|-|-|\n",
      "|負け|1期で直前の谷を更新したのでショートで入る。|その後反発上昇。入るのが早すぎた。ショートであっても、更新確認のために2期は待ったほうがいい。|\n",
      "|負け|下落レンジでレジスタンスに到達したので、ショート読み。|普通に外した。|\n",
      "|負け|逆トライアングルのレジスタンス付近に到達。ショート。|外した。上位のレンジから大きく逸脱していて、読めない。|\n",
      "|勝ち|直前の谷の安値を大幅を更新したため、サポートが破られ、転換と判断。ショート。|予想通り転換が発生。下落のため急な値動き。その後2期で高値更新のため転換リスクを考慮して一度売り抜け。4日下落トレンドかつ上位足がまだ遠いため、次のサポートを破ったらまたショートではいる。|\n",
      "|負け|上位足の上昇レンジの底に到達したため、反発狙い。|損切りが厳しすぎた。|\n",
      "|負け|上位サポート反発|上位サポートが更新されてしまった|\n",
      "|負け|上位のサポートに到達。ロング。|欧州へのトランプ関税の影響で、円買い。最近急落が多く負け続けてる。|\n",
      "|負け|サポート突破して修正が入ったため、レジスタンス化することにかけてショート。普通にだめなこともあるので、損切り厳し目。|実需筋のドル買いによって反発上昇。やはり、レジスタンスをちゃんと確認したほうがいい。また、上位足近くで取れないと、パワー不足で乙る場合が多い。|\n",
      "|負け|もう一度試す。|上位近くないのに入ったのがそもそも間違いだった|\n",
      "|負け|ウェッジ。修正波と見て、ロング。|下がりすぎた。トライアングルに下向き要素がある時点でダメかも。|\n",
      "|負け|ダブルトップで、かつサポートを更新。ショート。|トレンド通りになったが、謎の円安により狩られた。損切りを0円にしていたので損失は最小に抑えた。|\n",
      "|負け|上昇トライアングルで、1回サポートで反発したため、サポートが機能していると見込んでロング。ただし損切りは厳しく設定。|伸び切らなかったので損切り。まだ損失が大き過ぎるのでもっと絞る。|\n",
      "|負け|下落レンジでのレジスタンスがサポート化下と判断。|日銀利上げ発表による急落で下落。その後持ち直すのか？|\n",
      "|勝ち|上昇トライアングルで下に突破。その後レジスタンスになったと見てエントリー。|上位近くないのに入ってしまったので一旦抜ける。|\n",
      "|負け|下落レンジで、ネックラインで反発下落。|損切りラインが僅かに前の高値に被っていた。完全な注文ミス。|\n",
      "|負け|ヘッドアンドショルダー。上位足のラインで反発下落したため、トレンド転換とみなしてショート。|一時利益が出たが、戻ってしまった。上位近くないのに入るべきではなかった。|\n",
      "|負け|下降トレンドで、更新したので入る。|謎の円安で狩られた。同じ決済通貨でポジション持ってもデータ得られないかも。（ただ勝率下げるだけ。）|\n",
      "|負け|下落トレンドでサポートが1期更新したため、ショート。損切りが甘く損失が出ているので、以降は早期損切り方針。|トレンド通りになったが、謎の円安により狩られた。損切りを0円にしていたので損失は最小に抑えた。|\n",
      "|負け|下降レンジのためショート。|レンジを突破。トレンド転換したか？|\n",
      "|負け|エリオット修正波とみて買い増し。|欲に眩んでロスカットを起こしてしまった。買い増しも含めて、更新してないのに入ってはいけない。|\n",
      "|勝ち|上昇レンジで、底まで来たのでロング。|大当たり。修正入り始めたので、一旦利確して様子見。|\n",
      "|負け|上昇トライアングルで、レジスタンスがサポート化したことを確認。トレンド転換と見なしてロング。|一度修正が入った。もう一度試してみる。|\n",
      "|負け|ピボット。普通に上昇レンジにフォロー。|なし。|\n",
      "|負け|上昇トライアングルで、サポート反発上昇を確認したため。|時間差で利上げ影響？謎の急落。|\n",
      "|負け|注文ミスを受けて、損切りラインが被らないようにして再注文。|レンジのラインを超えた。注文ミスがなければ、正常な損切り。|\n",
      "|負け|ピボット。上昇でレンジになってるので、普通にトレンドフォロー。|他取引のロスカットでこっちもロスカ。|\n",
      "|負け|ダブルトップで更新ができず、上位足が下落トレンドのため、ショート読み。|下がったが、途中で失速。1期で高値が更新されてしまったので、一旦逃げて様子見することに。|\n",
      "|勝ち|上昇レンジのためエントリー。|急落し始めたため、損切り。しかし当初の読み通り、再上昇。損切りラインを、損失拡大防止のためにやると、利益を出せなくなり、結果的にパフォーマンスを下げる。そもそも、失っても問題ない損切りラインとすること。あとは、転換時のエントリーをもっと早めて、損失を抑えるべき。|\n",
      "\n"
     ]
    }
   ],
   "source": [
    "text = \"|結果|事前判断|事後反省|\\n\" + \"|-|-|-|\\n\"\n",
    "for i, row in df_extract.iterrows():\n",
    "    text += f\"|{row['winlose']}|{row['reason'].replace('\\n', '')}|{row['result'].replace('\\n', '')}|\\n\"\n",
    "print(text)"
   ]
  },
  {
   "cell_type": "code",
   "execution_count": 6,
   "metadata": {},
   "outputs": [
    {
     "name": "stdout",
     "output_type": "stream",
     "text": [
      "損失pipsの上限値: 21.71708333333325\n"
     ]
    }
   ],
   "source": [
    "plus_pips_list = []\n",
    "lose_times = 0\n",
    "for i, row in df_extract.iterrows():\n",
    "    # 差額\n",
    "    if row[\"position\"] == \"long\":\n",
    "        diff = float(row[\"exitPrice\"]) - float(row[\"entryPrice\"])\n",
    "    if row[\"position\"] == \"short\":\n",
    "        diff = float(row[\"entryPrice\"]) - float(row[\"exitPrice\"])\n",
    "    # pips計算\n",
    "    def _pips():\n",
    "        match row[\"quoteCurrency\"]:\n",
    "            case \"JPY\":\n",
    "                return diff * 100\n",
    "            case \"ZAR\" | \"MXN\":\n",
    "                return diff * 1000\n",
    "            case _:\n",
    "                return diff * 10000\n",
    "    pips = _pips()\n",
    "    if pips > 0:\n",
    "        plus_pips_list.append(pips)\n",
    "    else:\n",
    "        lose_times += 1\n",
    "total_plus_pips = sum(plus_pips_list)\n",
    "loss_cut_pips = total_plus_pips / lose_times\n",
    "print(f\"損失pipsの上限値: {loss_cut_pips}\")"
   ]
  }
 ],
 "metadata": {
  "kernelspec": {
   "display_name": ".venv",
   "language": "python",
   "name": "python3"
  },
  "language_info": {
   "codemirror_mode": {
    "name": "ipython",
    "version": 3
   },
   "file_extension": ".py",
   "mimetype": "text/x-python",
   "name": "python",
   "nbconvert_exporter": "python",
   "pygments_lexer": "ipython3",
   "version": "3.12.0"
  }
 },
 "nbformat": 4,
 "nbformat_minor": 2
}
